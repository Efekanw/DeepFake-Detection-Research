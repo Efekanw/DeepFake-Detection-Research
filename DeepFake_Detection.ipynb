{
  "nbformat": 4,
  "nbformat_minor": 0,
  "metadata": {
    "colab": {
      "provenance": [],
      "machine_shape": "hm",
      "gpuType": "T4",
      "authorship_tag": "ABX9TyOco1xpcfqyY2Meq0yKlkL0",
      "include_colab_link": true
    },
    "kernelspec": {
      "name": "python3",
      "display_name": "Python 3"
    },
    "language_info": {
      "name": "python"
    },
    "accelerator": "GPU"
  },
  "cells": [
    {
      "cell_type": "markdown",
      "metadata": {
        "id": "view-in-github",
        "colab_type": "text"
      },
      "source": [
        "<a href=\"https://colab.research.google.com/github/Efekanw/DeepFake-Detection-Research/blob/dev/DeepFake_Detection.ipynb\" target=\"_parent\"><img src=\"https://colab.research.google.com/assets/colab-badge.svg\" alt=\"Open In Colab\"/></a>"
      ]
    },
    {
      "cell_type": "code",
      "execution_count": 1,
      "metadata": {
        "id": "Vfe5QVW9Lu_8",
        "outputId": "f6bc3abb-db6f-4efb-aff8-4ba0bfbebb12",
        "colab": {
          "base_uri": "https://localhost:8080/"
        }
      },
      "outputs": [
        {
          "output_type": "stream",
          "name": "stdout",
          "text": [
            "Mounted at /content/drive\n"
          ]
        }
      ],
      "source": [
        "from google.colab import drive\n",
        "drive.mount('/content/drive')"
      ]
    },
    {
      "cell_type": "code",
      "source": [
        "import os\n",
        "import sys\n",
        "#list the current working dir\n",
        "os.getcwd()\n",
        "#change the current working dir\n",
        "os.chdir('/content/drive/MyDrive/DeepFakeDetection/codes')"
      ],
      "metadata": {
        "id": "AkilhnN5PoWz"
      },
      "execution_count": 2,
      "outputs": []
    },
    {
      "cell_type": "code",
      "source": [
        "os.getcwd()"
      ],
      "metadata": {
        "colab": {
          "base_uri": "https://localhost:8080/",
          "height": 36
        },
        "id": "KLbhBnbzRWQ1",
        "outputId": "f048e8e2-e1b9-4113-f027-80992403592e"
      },
      "execution_count": 3,
      "outputs": [
        {
          "output_type": "execute_result",
          "data": {
            "text/plain": [
              "'/content/drive/.shortcut-targets-by-id/1tmtTAq1ZYNmENfy6OW7Iu80GH6Tpidj0/DeepFakeDetection/codes'"
            ],
            "application/vnd.google.colaboratory.intrinsic+json": {
              "type": "string"
            }
          },
          "metadata": {},
          "execution_count": 3
        }
      ]
    },
    {
      "cell_type": "code",
      "source": [
        "!ls"
      ],
      "metadata": {
        "colab": {
          "base_uri": "https://localhost:8080/"
        },
        "id": "QO7jz3pJRXkw",
        "outputId": "80f7114e-44f8-4145-d12f-0aa2f2c846b0"
      },
      "execution_count": 4,
      "outputs": [
        {
          "output_type": "stream",
          "name": "stdout",
          "text": [
            "dataset  preprocessing\trequirements.txt\n"
          ]
        }
      ]
    },
    {
      "cell_type": "code",
      "source": [
        "!pip install -r requirements.txt"
      ],
      "metadata": {
        "id": "tkM-gDaUbdgM"
      },
      "execution_count": null,
      "outputs": []
    },
    {
      "cell_type": "code",
      "source": [
        "!python preprocessing/detect_faces.py  --data_path \"/content/drive/MyDrive/DeepFakeDetection/codes/dataset\""
      ],
      "metadata": {
        "colab": {
          "base_uri": "https://localhost:8080/"
        },
        "id": "ewM6iPtRSAl7",
        "outputId": "1f74b354-b626-4c37-8ccd-a5c12f7ae0e9"
      },
      "execution_count": 9,
      "outputs": [
        {
          "output_type": "stream",
          "name": "stdout",
          "text": [
            "  0% 0/3 [00:00<?, ?it/s]101\n",
            " 33% 1/3 [00:10<00:21, 10.56s/it]300\n",
            " 67% 2/3 [00:22<00:11, 11.26s/it]300\n",
            "100% 3/3 [00:27<00:00,  9.32s/it]\n"
          ]
        }
      ]
    },
    {
      "cell_type": "code",
      "source": [],
      "metadata": {
        "id": "fwxeN5wQaqEV"
      },
      "execution_count": null,
      "outputs": []
    }
  ]
}