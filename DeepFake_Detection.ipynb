{
  "nbformat": 4,
  "nbformat_minor": 0,
  "metadata": {
    "colab": {
      "provenance": [],
      "machine_shape": "hm",
      "gpuType": "T4",
      "authorship_tag": "ABX9TyN47tshxMK7rxn8V7tnaohM",
      "include_colab_link": true
    },
    "kernelspec": {
      "name": "python3",
      "display_name": "Python 3"
    },
    "language_info": {
      "name": "python"
    },
    "accelerator": "GPU"
  },
  "cells": [
    {
      "cell_type": "markdown",
      "metadata": {
        "id": "view-in-github",
        "colab_type": "text"
      },
      "source": [
        "<a href=\"https://colab.research.google.com/github/Efekanw/DeepFake-Detection-Research/blob/dev/DeepFake_Detection.ipynb\" target=\"_parent\"><img src=\"https://colab.research.google.com/assets/colab-badge.svg\" alt=\"Open In Colab\"/></a>"
      ]
    },
    {
      "cell_type": "markdown",
      "source": [
        "# **Installation of Requirements**"
      ],
      "metadata": {
        "id": "Kuq9M1AEiTnP"
      }
    },
    {
      "cell_type": "code",
      "execution_count": 42,
      "metadata": {
        "id": "Vfe5QVW9Lu_8",
        "outputId": "bd25e0fe-299f-4595-da43-ed977d23c732",
        "colab": {
          "base_uri": "https://localhost:8080/"
        }
      },
      "outputs": [
        {
          "output_type": "stream",
          "name": "stdout",
          "text": [
            "Drive already mounted at /content/drive; to attempt to forcibly remount, call drive.mount(\"/content/drive\", force_remount=True).\n"
          ]
        }
      ],
      "source": [
        "from google.colab import drive\n",
        "drive.mount('/content/drive')"
      ]
    },
    {
      "cell_type": "code",
      "source": [
        "import os\n",
        "import sys\n",
        "#list the current working dir\n",
        "os.getcwd()\n",
        "#change the current working dir\n",
        "os.chdir('/content/drive/MyDrive/DeepFakeDetection/codes')"
      ],
      "metadata": {
        "id": "AkilhnN5PoWz"
      },
      "execution_count": 43,
      "outputs": []
    },
    {
      "cell_type": "code",
      "source": [
        "os.getcwd()"
      ],
      "metadata": {
        "colab": {
          "base_uri": "https://localhost:8080/",
          "height": 35
        },
        "id": "KLbhBnbzRWQ1",
        "outputId": "b2e65c38-4375-4bc3-923c-9d23f99ac05f"
      },
      "execution_count": 44,
      "outputs": [
        {
          "output_type": "execute_result",
          "data": {
            "text/plain": [
              "'/content/drive/.shortcut-targets-by-id/1tmtTAq1ZYNmENfy6OW7Iu80GH6Tpidj0/DeepFakeDetection/codes'"
            ],
            "application/vnd.google.colaboratory.intrinsic+json": {
              "type": "string"
            }
          },
          "metadata": {},
          "execution_count": 44
        }
      ]
    },
    {
      "cell_type": "code",
      "source": [
        "!ls"
      ],
      "metadata": {
        "colab": {
          "base_uri": "https://localhost:8080/"
        },
        "id": "QO7jz3pJRXkw",
        "outputId": "49c7949d-4e5e-46d3-fbd0-9a3193867b90"
      },
      "execution_count": 45,
      "outputs": [
        {
          "output_type": "stream",
          "name": "stdout",
          "text": [
            "configs\t\t\t  deepfakes_dataset.py\t__pycache__\t  transforms\n",
            "dataset\t\t\t  models\t\trequirements.txt  utils.py\n",
            "DeepFake_Detection.ipynb  preprocessing\t\ttrain.py\n"
          ]
        }
      ]
    },
    {
      "cell_type": "code",
      "source": [
        "!pip install -r requirements.txt"
      ],
      "metadata": {
        "id": "tkM-gDaUbdgM"
      },
      "execution_count": null,
      "outputs": []
    },
    {
      "cell_type": "markdown",
      "source": [
        "# **Preprocessing Stage**"
      ],
      "metadata": {
        "id": "RtFToXdHil9S"
      }
    },
    {
      "cell_type": "code",
      "source": [
        "!python preprocessing/detect_faces.py  --data_path \"/content/drive/MyDrive/DeepFakeDetection/codes/dataset\""
      ],
      "metadata": {
        "colab": {
          "base_uri": "https://localhost:8080/"
        },
        "id": "ewM6iPtRSAl7",
        "outputId": "1f74b354-b626-4c37-8ccd-a5c12f7ae0e9"
      },
      "execution_count": null,
      "outputs": [
        {
          "output_type": "stream",
          "name": "stdout",
          "text": [
            "  0% 0/3 [00:00<?, ?it/s]101\n",
            " 33% 1/3 [00:10<00:21, 10.56s/it]300\n",
            " 67% 2/3 [00:22<00:11, 11.26s/it]300\n",
            "100% 3/3 [00:27<00:00,  9.32s/it]\n"
          ]
        }
      ]
    },
    {
      "cell_type": "markdown",
      "source": [
        "# **Training Stage**"
      ],
      "metadata": {
        "id": "L_vkfHXQiv2V"
      }
    },
    {
      "cell_type": "code",
      "source": [
        "!python train.py"
      ],
      "metadata": {
        "id": "fwxeN5wQaqEV",
        "colab": {
          "base_uri": "https://localhost:8080/"
        },
        "outputId": "f775ff71-e763-479b-a3dd-3dc594c3554c"
      },
      "execution_count": 55,
      "outputs": [
        {
          "output_type": "stream",
          "name": "stdout",
          "text": [
            "Namespace(num_epochs=3, workers=10, resume='', config='configs/architecture.yaml', patience=5, model='cross_efficient_vit')\n",
            "Loaded pretrained weights for efficientnet-b0\n",
            "Loaded pretrained weights for efficientnet-b0\n",
            "No checkpoint loaded.\n",
            "Model Parameters: 101377610\n",
            "  0% 0/2 [00:00<?, ?it/s]dataset/train_dataset\n",
            "dataset/train_dataset/crops/abanuvjvgh\n",
            "abanuvjvgh.mp4\n",
            "0    abanuvjvgh.mp4\n",
            "Name: filename, dtype: object\n",
            "TTT0    True\n",
            "Name: filename, dtype: bool\n",
            "1\n",
            "dataset/train_dataset\n",
            "dataset/validation_dataset/crops/abwvsloero\n",
            "abwvsloero.mp4\n",
            "0    0\n",
            "Name: label, dtype: int64\n",
            "100% 2/2 [00:00<00:00, 17.74it/s]\n",
            "Train images: 9 Validation images: 3\n",
            "__TRAINING STATS__\n",
            "Counter({1: 9})\n",
            "Weights 0.0\n",
            "__VALIDATION STATS__\n",
            "Counter({0: 3})\n",
            "___________________\n",
            "/usr/local/lib/python3.10/dist-packages/torch/utils/data/dataloader.py:560: UserWarning: This DataLoader will create 10 worker processes in total. Our suggested max number of worker in current system is 8, which is smaller than what this DataLoader is going to create. Please be aware that excessive worker creation might get DataLoader running slow or even freeze, lower the worker number to avoid potential slowness/freeze if necessary.\n",
            "  warnings.warn(_create_warning_msg(\n",
            "y_predtensor([[-0.4941],\n",
            "        [-0.2557],\n",
            "        [-1.6816],\n",
            "        [ 0.6871],\n",
            "        [-0.5225],\n",
            "        [-0.4120],\n",
            "        [ 0.7666],\n",
            "        [-0.3377],\n",
            "        [-0.5538]], grad_fn=<ToCopyBackward0>)\n",
            "labelstensor([[1.],\n",
            "        [1.],\n",
            "        [1.],\n",
            "        [1.],\n",
            "        [1.],\n",
            "        [1.],\n",
            "        [1.],\n",
            "        [1.],\n",
            "        [1.]])\n",
            "EPOCH #0 ██████████████████████████████∙∙ 94%\n",
            "Loss:  0.0 Accuracy:  0.125 Train 0s:  7 Train 1s: 2\n",
            "EPOCH #0 ████████████████████████████████ 100%\n",
            "#0/3 loss:0.0 accuracy:0.2222222222222222 val_loss:0.48 val_accuracy:1.0 val_0s:3/3 val_1s:0/0\n",
            "y_predtensor([[ 0.3727],\n",
            "        [-0.1540],\n",
            "        [-0.5438],\n",
            "        [ 0.2475],\n",
            "        [-1.2484],\n",
            "        [-0.0373],\n",
            "        [-0.5696],\n",
            "        [ 0.3977],\n",
            "        [ 0.2105]], grad_fn=<ToCopyBackward0>)\n",
            "labelstensor([[1.],\n",
            "        [1.],\n",
            "        [1.],\n",
            "        [1.],\n",
            "        [1.],\n",
            "        [1.],\n",
            "        [1.],\n",
            "        [1.],\n",
            "        [1.]])\n",
            "EPOCH #1 ██████████████████████████████∙∙ 94%\n",
            "Loss:  0.0 Accuracy:  0.25 Train 0s:  5 Train 1s: 4\n",
            "EPOCH #1 ████████████████████████████████ 100%\n",
            "Validation loss did not improved\n",
            "#1/3 loss:0.0 accuracy:0.4444444444444444 val_loss:0.49 val_accuracy:1.0 val_0s:3/3 val_1s:0/0\n",
            "y_predtensor([[-0.3871],\n",
            "        [ 0.0168],\n",
            "        [-1.0275],\n",
            "        [ 1.0836],\n",
            "        [ 0.4800],\n",
            "        [-0.1382],\n",
            "        [-0.5678],\n",
            "        [-1.1624],\n",
            "        [-0.8994]], grad_fn=<ToCopyBackward0>)\n",
            "labelstensor([[1.],\n",
            "        [1.],\n",
            "        [1.],\n",
            "        [1.],\n",
            "        [1.],\n",
            "        [1.],\n",
            "        [1.],\n",
            "        [1.],\n",
            "        [1.]])\n",
            "EPOCH #2 ██████████████████████████████∙∙ 94%\n",
            "Loss:  0.0 Accuracy:  0.1875 Train 0s:  6 Train 1s: 3\n",
            "EPOCH #2 ████████████████████████████████ 100%\n",
            "Validation loss did not improved\n",
            "#2/3 loss:0.0 accuracy:0.3333333333333333 val_loss:0.7 val_accuracy:0.3333333333333333 val_0s:1/3 val_1s:2/0\n",
            "y_predtensor([[ 0.5874],\n",
            "        [-0.5794],\n",
            "        [-0.9095],\n",
            "        [-0.8093],\n",
            "        [ 0.2278],\n",
            "        [-0.5745],\n",
            "        [-0.5295],\n",
            "        [-1.0352],\n",
            "        [-0.1913]], grad_fn=<ToCopyBackward0>)\n",
            "labelstensor([[1.],\n",
            "        [1.],\n",
            "        [1.],\n",
            "        [1.],\n",
            "        [1.],\n",
            "        [1.],\n",
            "        [1.],\n",
            "        [1.],\n",
            "        [1.]])\n",
            "EPOCH #3 ██████████████████████████████∙∙ 94%\n",
            "Loss:  0.0 Accuracy:  0.125 Train 0s:  7 Train 1s: 2\n",
            "EPOCH #3 ████████████████████████████████ 100%\n",
            "#3/3 loss:0.0 accuracy:0.2222222222222222 val_loss:0.37 val_accuracy:1.0 val_0s:3/3 val_1s:0/0\n",
            "\u001b[?25h"
          ]
        }
      ]
    }
  ]
}